{
 "cells": [
  {
   "cell_type": "code",
   "execution_count": 17,
   "metadata": {},
   "outputs": [],
   "source": [
    "import json"
   ]
  },
  {
   "cell_type": "code",
   "execution_count": 18,
   "metadata": {},
   "outputs": [],
   "source": [
    "GUNN = \"Gunn\"\n",
    "FLESCH = \"Flesch\"\n",
    "KEY = \"Key\""
   ]
  },
  {
   "cell_type": "code",
   "execution_count": 21,
   "metadata": {},
   "outputs": [],
   "source": [
    "def read_dat(filename):\n",
    "    with open(filename, 'r') as f:\n",
    "        for line in f:\n",
    "            yield json.loads(line)"
   ]
  },
  {
   "cell_type": "code",
   "execution_count": 37,
   "metadata": {},
   "outputs": [],
   "source": [
    "filename = \"../data/read_all.dat\"\n",
    "data = list(read_dat(filename))"
   ]
  },
  {
   "cell_type": "code",
   "execution_count": 39,
   "metadata": {},
   "outputs": [],
   "source": [
    "subs = sorted(data, key=lambda k: k[GUNN]) "
   ]
  },
  {
   "cell_type": "code",
   "execution_count": 48,
   "metadata": {},
   "outputs": [
    {
     "name": "stdout",
     "output_type": "stream",
     "text": [
      "| Sub | Ease | Grade |\n",
      "| --- | --- | --- |\n",
      "| MinerApCirclejerk | -879.369443 | 136.364095 |\n",
      "| wat | -586.803437 | 263.770335 |\n",
      "| gats | -551.45335 | 92.341296 |\n",
      "| JapanesePornIdols | -485.618217 | 81.270601 |\n",
      "| merlinbbc | -480.360309 | 82.825974 |\n"
     ]
    }
   ],
   "source": [
    "print(\"| Sub | Flesch–Kincaid | Gunning Fog |\")\n",
    "print(\"| --- | --- | --- |\")\n",
    "\n",
    "for i, sub in enumerate(subs):\n",
    "    print(f\"| {sub[KEY]} | {sub[FLESCH]} | {sub[GUNN]} |\")\n",
    "    if i > 3:\n",
    "        break\n"
   ]
  },
  {
   "cell_type": "code",
   "execution_count": null,
   "metadata": {},
   "outputs": [],
   "source": []
  }
 ],
 "metadata": {
  "kernelspec": {
   "display_name": "Python 3",
   "language": "python",
   "name": "python3"
  },
  "language_info": {
   "codemirror_mode": {
    "name": "ipython",
    "version": 3
   },
   "file_extension": ".py",
   "mimetype": "text/x-python",
   "name": "python",
   "nbconvert_exporter": "python",
   "pygments_lexer": "ipython3",
   "version": "3.6.6"
  }
 },
 "nbformat": 4,
 "nbformat_minor": 2
}
