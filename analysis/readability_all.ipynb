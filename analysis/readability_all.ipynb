{
 "cells": [
  {
   "cell_type": "code",
   "execution_count": 5,
   "metadata": {},
   "outputs": [],
   "source": [
    "import csv\n",
    "import json"
   ]
  },
  {
   "cell_type": "code",
   "execution_count": 34,
   "metadata": {},
   "outputs": [],
   "source": [
    "def read_dat(filename):\n",
    "    with open(filename, 'r', newline='') as csvfile:\n",
    "        reader = csv.reader(csvfile, delimiter=\"\\t\")\n",
    "        for line in reader:\n",
    "            j = json.loads(line[1])\n",
    "            yield {\"sub\": line[0], **j}"
   ]
  },
  {
   "cell_type": "code",
   "execution_count": 37,
   "metadata": {},
   "outputs": [],
   "source": [
    "filename = \"../data/read_all.dat\"\n",
    "data = list(read_dat(filename))"
   ]
  },
  {
   "cell_type": "code",
   "execution_count": 39,
   "metadata": {},
   "outputs": [],
   "source": [
    "data = sorted(data, key=lambda k: k['ease']) "
   ]
  },
  {
   "cell_type": "code",
   "execution_count": 48,
   "metadata": {},
   "outputs": [
    {
     "name": "stdout",
     "output_type": "stream",
     "text": [
      "| Sub | Ease | Grade |\n",
      "| --- | --- | --- |\n",
      "| MinerApCirclejerk | -879.369443 | 136.364095 |\n",
      "| wat | -586.803437 | 263.770335 |\n",
      "| gats | -551.45335 | 92.341296 |\n",
      "| JapanesePornIdols | -485.618217 | 81.270601 |\n",
      "| merlinbbc | -480.360309 | 82.825974 |\n"
     ]
    }
   ],
   "source": [
    "print(\"| Sub | Ease | Grade |\")\n",
    "print(\"| --- | --- | --- |\")\n",
    "for i in range(5):\n",
    "    datum = data[i]\n",
    "    sub = datum[\"sub\"]\n",
    "    ease = datum[\"ease\"]\n",
    "    grade = datum[\"grade\"]\n",
    "    print(f\"| {sub} | {ease} | {grade} |\")\n"
   ]
  },
  {
   "cell_type": "code",
   "execution_count": null,
   "metadata": {},
   "outputs": [],
   "source": []
  }
 ],
 "metadata": {
  "kernelspec": {
   "display_name": "Python 3",
   "language": "python",
   "name": "python3"
  },
  "language_info": {
   "codemirror_mode": {
    "name": "ipython",
    "version": 3
   },
   "file_extension": ".py",
   "mimetype": "text/x-python",
   "name": "python",
   "nbconvert_exporter": "python",
   "pygments_lexer": "ipython3",
   "version": "3.6.6"
  }
 },
 "nbformat": 4,
 "nbformat_minor": 2
}
