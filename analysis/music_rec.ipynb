{
 "cells": [
  {
   "cell_type": "code",
   "execution_count": 1,
   "metadata": {},
   "outputs": [],
   "source": [
    "import matplotlib.pyplot as plt\n",
    "import numpy as np\n",
    "import re"
   ]
  },
  {
   "cell_type": "code",
   "execution_count": 2,
   "metadata": {},
   "outputs": [],
   "source": [
    "def parse_data(filename, _try, _rec):\n",
    "    with open(filename, 'r') as f:\n",
    "        for line in f:\n",
    "            if line:\n",
    "                s = re.split(r'\\t', line)\n",
    "                try_and_rec = s[1][1:-2].split(', ', 1)\n",
    "                if len(try_and_rec) == 0:\n",
    "                    break\n",
    "                if try_and_rec[0].startswith('try:'):\n",
    "                    keys = try_and_rec[0][4:].split(' ', 1)\n",
    "                    for key in keys:\n",
    "                        _try[key] += 1\n",
    "                    if len(try_and_rec) > 1:\n",
    "                        key = try_and_rec[1][12:]\n",
    "                        _rec[key] += 1\n",
    "                else:\n",
    "                    key = try_and_rec[0][12:]\n",
    "                    _rec[key] += 1\n",
    "                    if len(try_and_rec) > 1:\n",
    "                        keys = try_and_rec[1][4:].split(' ', 1)\n",
    "                        for key in keys:\n",
    "                            _try[key] += 1"
   ]
  },
  {
   "cell_type": "code",
   "execution_count": 3,
   "metadata": {},
   "outputs": [
    {
     "name": "stdout",
     "output_type": "stream",
     "text": [
      "CPU times: user 2.18 s, sys: 30.8 ms, total: 2.21 s\n",
      "Wall time: 2.21 s\n"
     ]
    }
   ],
   "source": [
    "%%time\n",
    "\n",
    "_try = {'comedy': 0, 'electronic': 0, 'country': 0, 'instrumental': 0, 'disney': 0, 'classical': 0, 'inspirational': 0, 'pop': 0, 'hip-hop/rap': 0, 'jazz': 0, 'rock': 0, 'r&b/soul': 0, 'blues': 0}\n",
    "_rec = {'comedy': 0, 'electronic': 0, 'country': 0, 'instrumental': 0, 'disney': 0, 'classical': 0, 'inspirational': 0, 'pop': 0, 'hip-hop/rap': 0, 'jazz': 0, 'rock': 0, 'r&b/soul': 0, 'blues': 0}\n",
    "\n",
    "data_file = '../music-final'\n",
    "parse_data(data_file, _try, _rec)"
   ]
  },
  {
   "cell_type": "code",
   "execution_count": 4,
   "metadata": {},
   "outputs": [
    {
     "data": {
      "text/plain": [
       "{'comedy': 3,\n",
       " 'electronic': 21,\n",
       " 'country': 33,\n",
       " 'instrumental': 220,\n",
       " 'disney': 220,\n",
       " 'classical': 1145,\n",
       " 'inspirational': 1145,\n",
       " 'pop': 1010431,\n",
       " 'hip-hop/rap': 2487,\n",
       " 'jazz': 335,\n",
       " 'rock': 310,\n",
       " 'r&b/soul': 97,\n",
       " 'blues': 2}"
      ]
     },
     "execution_count": 4,
     "metadata": {},
     "output_type": "execute_result"
    }
   ],
   "source": [
    "_try"
   ]
  },
  {
   "cell_type": "code",
   "execution_count": 5,
   "metadata": {},
   "outputs": [
    {
     "data": {
      "text/plain": [
       "{'comedy': 96136,\n",
       " 'electronic': 4117,\n",
       " 'country': 21673,\n",
       " 'instrumental': 10727,\n",
       " 'disney': 4291,\n",
       " 'classical': 9509,\n",
       " 'inspirational': 44705,\n",
       " 'pop': 19490,\n",
       " 'hip-hop/rap': 6697,\n",
       " 'jazz': 39897,\n",
       " 'rock': 31318,\n",
       " 'r&b/soul': 8789,\n",
       " 'blues': 38314}"
      ]
     },
     "execution_count": 5,
     "metadata": {},
     "output_type": "execute_result"
    }
   ],
   "source": [
    "_rec"
   ]
  },
  {
   "cell_type": "code",
   "execution_count": 6,
   "metadata": {},
   "outputs": [
    {
     "data": {
      "image/png": "[encoded data removed]",
      "text/plain": [
       "<Figure size 1728x576 with 1 Axes>"
      ]
     },
     "metadata": {
      "needs_background": "light"
     },
     "output_type": "display_data"
    }
   ],
   "source": [
    "plt.figure(figsize=(24,8))\n",
    "X = np.arange(len(_try))\n",
    "ax = plt.subplot(111)\n",
    "ax.bar(X, _try.values(), width=0.2, color='b', align='center')\n",
    "ax.bar(X-0.2, _rec.values(), width=0.2, color='g', align='center')\n",
    "ax.legend(('Try','Recommended'))\n",
    "plt.xticks(X, _try.keys())\n",
    "plt.title(\"Music Recommendation\", fontsize=17)\n",
    "plt.show()"
   ]
  },
  {
   "cell_type": "code",
   "execution_count": null,
   "metadata": {},
   "outputs": [],
   "source": []
  }
 ],
 "metadata": {
  "kernelspec": {
   "display_name": "Python 3",
   "language": "python",
   "name": "python3"
  },
  "language_info": {
   "codemirror_mode": {
    "name": "ipython",
    "version": 3
   },
   "file_extension": ".py",
   "mimetype": "text/x-python",
   "name": "python",
   "nbconvert_exporter": "python",
   "pygments_lexer": "ipython3",
   "version": "3.7.0"
  }
 },
 "nbformat": 4,
 "nbformat_minor": 2
}
