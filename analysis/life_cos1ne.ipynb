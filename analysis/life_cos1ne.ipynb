{
 "cells": [
  {
   "cell_type": "code",
   "execution_count": 44,
   "metadata": {},
   "outputs": [],
   "source": [
    "def read_dat(filename):\n",
    "    with open(filename, 'r', newline='') as f:\n",
    "        for line in f:\n",
    "            if line:\n",
    "                try:\n",
    "                    yield json.loads(line)\n",
    "                except:\n",
    "                    continue"
   ]
  },
  {
   "cell_type": "code",
   "execution_count": 45,
   "metadata": {},
   "outputs": [],
   "source": [
    "dat_file = \"../data/life_cos1ne.dat\"\n",
    "data = list(read_dat(dat_file))"
   ]
  },
  {
   "cell_type": "code",
   "execution_count": 46,
   "metadata": {},
   "outputs": [],
   "source": [
    "from sklearn.feature_extraction.text import TfidfVectorizer\n",
    "corpus = [datum[\"body\"] for datum in data]\n",
    "vectorizer = TfidfVectorizer(stop_words='english', max_features=100)\n",
    "X = vectorizer.fit_transform(corpus)"
   ]
  },
  {
   "cell_type": "code",
   "execution_count": 47,
   "metadata": {},
   "outputs": [
    {
     "name": "stdout",
     "output_type": "stream",
     "text": [
      "{'non', 'believe', 'isn', 'like', 'life', 'people', 'exist', 'cincinnati', 'soul', 'thing', 'means', 'evidence', 've', 'actually', 'gt', 'true', 'year', 'universe', 'based', 'yes', 'make', 'possible', 'right', 'okay', 'aren', 'oh', 'way', 'evil', 'don', 'going', 'know', 'religious', 'reason', 'moral', 'sin', 'new', 'think', 'best', 'does', 'game', 'understand', 'll', 'christian', 'mean', 'person', 'need', 'matter', 'things', 'big', 'body', 'heaven', 'question', 'fact', 'good', 'religion', 'better', 'human', 'yeah', 'years', 'church', 'vote', 'really', 'world', 'place', 'just', 'different', 'act', 'bible', 'saying', 'said', 'en', 'come', 'sex', 'doesn', 'teams', 'won', 'feel', 'free', 'http', 'wouldn', 'belief', 'want', 'team', 'marriage', 'hell', 'say', 'east', 'time', 'point', 'god', 'www', 'did', 'use', 'conference', 'jesus', 'wrong', 'state', 'didn', 'catholic', 'man'}\n"
     ]
    }
   ],
   "source": [
    "important_words = set(vectorizer.get_feature_names())\n",
    "print(important_words)"
   ]
  },
  {
   "cell_type": "code",
   "execution_count": 60,
   "metadata": {},
   "outputs": [],
   "source": [
    "import time\n",
    "import datetime\n",
    "counts = dict()\n",
    "filtered_data = dict()\n",
    "for datum in data:\n",
    "    if datum[\"body\"].startswith(\"&gt\"):\n",
    "        continue\n",
    "    t = time.gmtime(int(datum[\"timeLong\"]))\n",
    "    dt = datetime.datetime.fromtimestamp(time.mktime(t))\n",
    "    toStr = dt.strftime(\"%y-%m\")\n",
    "    if toStr not in filtered_data:\n",
    "        filtered_data[toStr] = datum\n",
    "        counts[toStr] = 1\n",
    "    else:\n",
    "        # more reservoir sampling!\n",
    "        counts[toStr] += 1\n",
    "        if np.random.randint(0, counts[toStr]) == 0:\n",
    "            filtered_data[toStr] = datum"
   ]
  },
  {
   "cell_type": "code",
   "execution_count": 61,
   "metadata": {},
   "outputs": [],
   "source": [
    "def get_ratios(d):\n",
    "    total = 0\n",
    "    counts = dict()\n",
    "    most_counts = 0\n",
    "    for datum in d:\n",
    "        sub = datum[\"subreddit\"]\n",
    "        if sub not in counts:\n",
    "            counts[sub] = 0\n",
    "        counts[sub] += 1\n",
    "        if counts[sub] > most_counts:\n",
    "            most_counts = counts[sub]\n",
    "    for sub, count in counts.items():\n",
    "        counts[sub] = 100*count/most_counts\n",
    "    return counts"
   ]
  },
  {
   "cell_type": "code",
   "execution_count": 62,
   "metadata": {},
   "outputs": [
    {
     "name": "stdout",
     "output_type": "stream",
     "text": [
      "{'DebateReligion': 100.0, 'CFB': 13.38097239736584, 'WTF': 1.120919153706039, 'nfl': 9.205548549810844, 'masseffect': 4.735883424408015, 'Catholicism': 13.801317080005605, 'funny': 1.7094017094017093, 'philosophy': 1.9475970295642426, 'politics': 5.646630236794171, 'Christianity': 16.32338517584419, 'socialism': 2.269861286254729, 'todayilearned': 2.648171500630517, 'MapPorn': 2.844332352529074, 'AskReddit': 1.3310914950259212, 'bengals': 1.5132408575031526, 'soccer': 2.73224043715847, 'polandball': 1.0228387277567605, 'worldbuilding': 1.092896174863388, 'FantasyRealignment': 3.656998738965952, 'AmericanAthletic': 1.008827238335435, 'kingme': 1.6253327728737565, 'SandersForPresident': 6.0109289617486334, 'MLS': 1.7094017094017093, 'FCCincinnati': 2.4099761804679836, 'USLPRO': 2.3959646910466583}\n"
     ]
    }
   ],
   "source": [
    "sub_ratios = get_ratios(data)\n",
    "sub_ratios = {sub: ratio for sub, ratio in sub_ratios.items() if ratio > 1}\n",
    "print(sub_ratios)"
   ]
  },
  {
   "cell_type": "code",
   "execution_count": 63,
   "metadata": {},
   "outputs": [],
   "source": [
    "body = \"\\n\".join([key + \": \" + filtered_data[key][\"body\"] for key in sorted(filtered_data)])"
   ]
  },
  {
   "cell_type": "code",
   "execution_count": 64,
   "metadata": {},
   "outputs": [
    {
     "name": "stdout",
     "output_type": "stream",
     "text": [
      "12-01: I agree with you the last bit (religion promoting illegal activity) is a ridiculous claim made by the Bishop to appeal to conservatives.\n",
      "12-02: You are using it correctly.\n",
      "12-03: Why don't you try out new classes?\n",
      "12-04: Haha this is true and not ragging on you at all it's just I've found when *one* mentions downvotes it attracts downvotes and when *someone else* mentions downvotes it attracts upvotes.\n",
      "12-05: No he can't it's a logical impossibility.\n",
      "12-06: God does not rule over us because he created us.\n",
      "12-07: Yes pretty much.\n",
      "12-08: This is handled by the Catechism.\n",
      "12-09: Allow me to explain further.\n",
      "12-10: Well for the Catholic Church will consider this a bad thing as it forces Catholic institutions to commit a sin by at least implicitly condoning birth control.\n",
      "12-11: He means according to this scenario, not according to how it is.\n",
      "12-12: In my view they've always been unacceptable, but I have the benefit of Centuries of understanding and humanization that they did not have access to.\n",
      "13-01: Okay radical new idea!\n",
      "13-02: Okay then lets say that we have different enhancements for different qualities due to limitations in the human body.\n",
      "13-03: You should never end anyone's life premature, because you are doing them a great disservice.\n",
      "13-04: Happy to have you back around man.\n",
      "13-05: So no two events ever happen at the same time?\n",
      "13-06: Because they believed they happened.\n",
      "13-07: What specifically turned you off from it?\n",
      "13-08: I would think it would be an accurate term if we are describing a living organism's descendents turning into non-living organisms.\n",
      "13-09: [This is what I came up with](http://imgur.\n",
      "13-10: Thomas Aquinas' [Summa Theologica](http://www.\n",
      "13-11: Good lord that's a giant city!\n",
      "13-12: I would assume they are going for it because they would like to get some game experience on 4th and long packages just in case they would need to use it in the playoffs.\n",
      "14-01: It wouldn't be a brain, that's the important part.\n",
      "14-02: A lot of these countries make up weird shapes but somehow that gray country in the middle of Europe just seems right, you know?\n",
      "14-03: God did not take Pharaoh's free will.\n",
      "14-04: You may say that it is a problem, but I recognize that my own personal views are not what dictate how the world works.\n",
      "14-05: Sadly they [are](http://philpapers.\n",
      "14-06: No worries, hopefully you can figure out something.\n",
      "14-07: I'm sorry but you are wrong.\n",
      "14-08: * Being: a distinct individual.\n",
      "14-09: Human sexuality isn't a medical diagnosis but a psychological one.\n",
      "14-10: I am saying that the glory Christ receives in Heaven is not the same glory that is given to mankind in Heaven.\n",
      "14-11: Exactly and since when is marriage equivalent to life?\n",
      "14-12: I fail to see how that falls on God.\n",
      "15-01: Jews and Christians as they exist today, came from the same community.\n",
      "15-02: So we're supposed to wait until the wedding is already completed before we discover that our significant other is capable of exciting our sexual passions?\n",
      "15-03: I'm currently dating a woman with a child and I guess that means I should give my perspective on the matter.\n",
      "15-04: Hence why its a long shot.\n",
      "15-05: 1.\n",
      "15-06: So they are sinful for merely existing?\n",
      "15-07: We can't call it a true genocide because then the international community is obligated to provide military assistance.\n",
      "15-08: Well in my understanding samsara is the repeating cycle of death and rebirth, where nirvana is being liberated from repeating this cycle.\n",
      "15-09: You do realize that many Americans are fairly ethnically homogenous, especially in more rural communities.\n",
      "15-10: None of the marriages she entered into were valid, as they lacked the proper form (Catholics are bound to have sacramental marriages).\n",
      "15-11: The salt is because we both are nervous about not getting home field in the playoffs.\n",
      "15-12: What is this game!\n",
      "16-01: So we basically have an anti-sin repellent shield?\n",
      "16-02: How is Natural Family Planning open to children?\n",
      "16-03: Well here's a [quick video](https://www.\n",
      "16-04: Let's say the top 3 finalists are Trump, Clinton and Sanders.\n",
      "16-05: They are functionally the same, what is your solution to fixing an unwilling worker?\n",
      "16-06: How about we just raise education standards in this country and eliminate the fear of failure.\n",
      "16-07: Season ticket owners got those tickets included in a package.\n",
      "16-08: If race is literally class then why shouldn't sex be considered class as well?\n",
      "16-09: I think her Supreme Court justices would be just as horrible as Trump's though.\n",
      "16-10: I agree this is actually a pretty good and mostly inoffensive way to get into it with a rival.\n",
      "16-11: Rand Paul is vehemently against the TPP and will fight against it.\n",
      "16-12: Planetes is really underrated (or rather unknown).\n"
     ]
    }
   ],
   "source": [
    "print(body)"
   ]
  },
  {
   "cell_type": "code",
   "execution_count": null,
   "metadata": {},
   "outputs": [],
   "source": []
  },
  {
   "cell_type": "code",
   "execution_count": null,
   "metadata": {},
   "outputs": [],
   "source": []
  }
 ],
 "metadata": {
  "kernelspec": {
   "display_name": "Python 3",
   "language": "python",
   "name": "python3"
  },
  "language_info": {
   "codemirror_mode": {
    "name": "ipython",
    "version": 3
   },
   "file_extension": ".py",
   "mimetype": "text/x-python",
   "name": "python",
   "nbconvert_exporter": "python",
   "pygments_lexer": "ipython3",
   "version": "3.7.0"
  }
 },
 "nbformat": 4,
 "nbformat_minor": 2
}
